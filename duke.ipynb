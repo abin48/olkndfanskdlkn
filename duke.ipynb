{
  "nbformat": 4,
  "nbformat_minor": 0,
  "metadata": {
    "colab": {
      "provenance": [],
      "toc_visible": true,
      "authorship_tag": "ABX9TyNpnCsbRH02Dg1mCX24ZkWT",
      "include_colab_link": true
    },
    "kernelspec": {
      "name": "python3",
      "display_name": "Python 3"
    },
    "language_info": {
      "name": "python"
    }
  },
  "cells": [
    {
      "cell_type": "markdown",
      "metadata": {
        "id": "view-in-github",
        "colab_type": "text"
      },
      "source": [
        "<a href=\"https://colab.research.google.com/github/abin48/olkndfanskdlkn/blob/main/duke.ipynb\" target=\"_parent\"><img src=\"https://colab.research.google.com/assets/colab-badge.svg\" alt=\"Open In Colab\"/></a>"
      ]
    },
    {
      "cell_type": "markdown",
      "source": [
        "# Injest"
      ],
      "metadata": {
        "id": "5PALIZcgo9-I"
      }
    },
    {
      "cell_type": "code",
      "execution_count": null,
      "metadata": {
        "colab": {
          "base_uri": "https://localhost:8080/"
        },
        "id": "Zsx8kundotMn",
        "outputId": "3d308353-6cd7-4e3d-dcc6-97a39f2ab747"
      },
      "outputs": [
        {
          "output_type": "stream",
          "name": "stdout",
          "text": [
            "hello\n"
          ]
        }
      ],
      "source": [
        "print(\"hello\")"
      ]
    },
    {
      "cell_type": "markdown",
      "source": [
        "# Modeling"
      ],
      "metadata": {
        "id": "KQan2UZqpBUj"
      }
    },
    {
      "cell_type": "code",
      "source": [
        "print(\"modeling\")"
      ],
      "metadata": {
        "colab": {
          "base_uri": "https://localhost:8080/"
        },
        "id": "c9YVNsVUoybO",
        "outputId": "f7dddc68-ac9e-4702-f19e-b44f92b80a42"
      },
      "execution_count": null,
      "outputs": [
        {
          "output_type": "stream",
          "name": "stdout",
          "text": [
            "modeling\n"
          ]
        }
      ]
    },
    {
      "cell_type": "markdown",
      "source": [
        "# Conclusion"
      ],
      "metadata": {
        "id": "aWCzrKDopDuC"
      }
    },
    {
      "cell_type": "code",
      "source": [],
      "metadata": {
        "id": "BCqsp0eto8gj"
      },
      "execution_count": null,
      "outputs": []
    }
  ]
}